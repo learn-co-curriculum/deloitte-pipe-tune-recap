{
  "cells": [
    {
      "cell_type": "markdown",
      "metadata": {
        "id": "dShvFklGXfud"
      },
      "source": [
        "# Model Tuning and Pipelines - Recap\n",
        "\n",
        "## Key Takeaways\n",
        "\n",
        "The key takeaways from this section include:\n",
        "\n",
        "* Machine learning ***pipelines*** create a nice workflow to combine data manipulations, preprocessing, and modeling\n",
        "* Machine learning pipelines can be used along with ***grid search*** to evaluate several parameter settings \n",
        "  * Grid search can considerably blow up computation time when computing for several parameters along with cross-validation\n",
        "  * Some models are very sensitive to hyperparameter changes, so they should be chosen with care, and even with big grids a good outcome isn't always guaranteed"
      ]
    }
  ],
  "metadata": {
    "kernelspec": {
      "display_name": "Python (learn-env)",
      "language": "python",
      "name": "learn-env"
    },
    "language_info": {
      "codemirror_mode": {
        "name": "ipython",
        "version": 3
      },
      "file_extension": ".py",
      "mimetype": "text/x-python",
      "name": "python",
      "nbconvert_exporter": "python",
      "pygments_lexer": "ipython3",
      "version": "3.8.5"
    },
    "colab": {
      "provenance": [],
      "collapsed_sections": []
    }
  },
  "nbformat": 4,
  "nbformat_minor": 0
}